{
 "cells": [
  {
   "cell_type": "code",
   "execution_count": 2,
   "id": "bb782cb1",
   "metadata": {},
   "outputs": [
    {
     "name": "stdout",
     "output_type": "stream",
     "text": [
      "        car  year  engine_hp  avg_mpg  price  salesman   dealership  \\\n",
      "0  Corvette  2011      335.0     22.5  46135         2     Big Bobs   \n",
      "1  Corvette  2011      300.0     23.5  40650         2  Uptown Cars   \n",
      "2  Corvette  2011      300.0     24.0  36350         2  Uptown Cars   \n",
      "3  Corvette  2011      230.0     23.0  29450         2  Uptown Cars   \n",
      "4  Corvette  2011      230.0     23.0  34500         2  Uptown Cars   \n",
      "\n",
      "    sold_date  sold_month  \n",
      "0  2012-05-06           5  \n",
      "1  2011-05-16           5  \n",
      "2  2013-07-31           7  \n",
      "3  2014-07-05           7  \n",
      "4  2013-05-20           5  \n"
     ]
    }
   ],
   "source": [
    "import pandas as pd\n",
    "import matplotlib.pyplot as plt\n",
    "# Reading CSV file into a Pandas DataFrame\n",
    "df = pd.read_csv('car_data.csv')\n",
    "\n",
    "# Print the first five rows of the DataFrame\n",
    "print(df.head())\n"
   ]
  },
  {
   "cell_type": "code",
   "execution_count": 3,
   "id": "580a5b5e",
   "metadata": {},
   "outputs": [
    {
     "name": "stdout",
     "output_type": "stream",
     "text": [
      "      sold_month   price\n",
      "0              5   46135\n",
      "1              5   40650\n",
      "2              7   36350\n",
      "3              7   29450\n",
      "4              5   34500\n",
      "...          ...     ...\n",
      "1956           9   49700\n",
      "1957           4   66350\n",
      "1958           5  128000\n",
      "1959           5  130000\n",
      "1960           2  131500\n",
      "\n",
      "[1961 rows x 2 columns]\n"
     ]
    }
   ],
   "source": [
    "\n",
    "# Select two columns by name\n",
    "selected_cols = df[['sold_month', 'price']]\n",
    "\n",
    "# Print the selected columns\n",
    "print(selected_cols)\n"
   ]
  },
  {
   "cell_type": "code",
   "execution_count": 7,
   "id": "5c4e306d",
   "metadata": {},
   "outputs": [
    {
     "name": "stdout",
     "output_type": "stream",
     "text": [
      "sold_month\n",
      "1      3266742\n",
      "2      2695687\n",
      "3     10775329\n",
      "4      9538794\n",
      "5     13977014\n",
      "6      3145013\n",
      "7      2482865\n",
      "8      2567701\n",
      "9      2564460\n",
      "10     2674696\n",
      "11     2956250\n",
      "12     9707214\n",
      "Name: price, dtype: int64\n"
     ]
    }
   ],
   "source": [
    "sum_by_month = df.groupby('sold_month')['price'].sum()\n",
    "print(sum_by_month)"
   ]
  },
  {
   "cell_type": "code",
   "execution_count": 8,
   "id": "684dc7c5",
   "metadata": {},
   "outputs": [
    {
     "name": "stdout",
     "output_type": "stream",
     "text": [
      "The month with most sales is 5\n"
     ]
    }
   ],
   "source": [
    "mostsalesMonth = sum_by_month.idxmax()\n",
    "print(f\"The month with most sales is {mostsalesMonth}\")"
   ]
  },
  {
   "cell_type": "code",
   "execution_count": 11,
   "id": "12ed3110",
   "metadata": {},
   "outputs": [
    {
     "data": {
      "image/png": "[encoded data removed]",
      "text/plain": [
       "<Figure size 640x480 with 1 Axes>"
      ]
     },
     "metadata": {},
     "output_type": "display_data"
    }
   ],
   "source": [
    "# Create a bar chart with the monthly sum data\n",
    "sum_by_month.plot(kind='bar')\n",
    "\n",
    "# Set the chart title and axes labels\n",
    "plt.title('Total price by month')\n",
    "plt.xlabel('Month')\n",
    "plt.ylabel('Total price')\n",
    "\n",
    "# Display the chart\n",
    "plt.show()"
   ]
  },
  {
   "cell_type": "code",
   "execution_count": 12,
   "id": "d9c0b5c3",
   "metadata": {},
   "outputs": [
    {
     "name": "stdout",
     "output_type": "stream",
     "text": [
      "           car  salesman\n",
      "0     Corvette         2\n",
      "1     Corvette         2\n",
      "2     Corvette         2\n",
      "3     Corvette         2\n",
      "4     Corvette         2\n",
      "...        ...       ...\n",
      "1956  Corvette         4\n",
      "1957  Corvette         2\n",
      "1958  Corvette         4\n",
      "1959  Corvette         2\n",
      "1960  Corvette         3\n",
      "\n",
      "[1961 rows x 2 columns]\n"
     ]
    }
   ],
   "source": [
    "# Select two columns by name\n",
    "cars_salesman = df[['car', 'salesman']]\n",
    "\n",
    "# Print the selected columns\n",
    "print(cars_salesman)"
   ]
  },
  {
   "cell_type": "code",
   "execution_count": 26,
   "id": "f1812c68",
   "metadata": {},
   "outputs": [
    {
     "name": "stdout",
     "output_type": "stream",
     "text": [
      "         car  salesman  counts\n",
      "0     Camaro         1      32\n",
      "1     Camaro         2     185\n",
      "2     Camaro         3     412\n",
      "3     Camaro         4     117\n",
      "4   Corvette         1      12\n",
      "5   Corvette         2     102\n",
      "6   Corvette         3     172\n",
      "7   Corvette         4      48\n",
      "8    Mustang         1      46\n",
      "9    Mustang         2     226\n",
      "10   Mustang         3     470\n",
      "11   Mustang         4     139\n"
     ]
    }
   ],
   "source": [
    "\n",
    "# Group the DataFrame by car and salesman, and count the number of cars sold by each salesman\n",
    "sales_counts = df.groupby(['car', 'salesman']).size().reset_index(name='counts')\n",
    "print(sales_counts)\n",
    "\n"
   ]
  },
  {
   "cell_type": "code",
   "execution_count": 27,
   "id": "9bd1b4af",
   "metadata": {},
   "outputs": [
    {
     "data": {
      "text/plain": [
       "salesman\n",
       "1      90\n",
       "2     513\n",
       "3    1054\n",
       "4     304\n",
       "Name: counts, dtype: int64"
      ]
     },
     "execution_count": 27,
     "metadata": {},
     "output_type": "execute_result"
    }
   ],
   "source": [
    "salesman_history = sales_counts.groupby('salesman')['counts'].sum()\n",
    "salesman_history"
   ]
  },
  {
   "cell_type": "code",
   "execution_count": 23,
   "id": "ee83465b",
   "metadata": {},
   "outputs": [
    {
     "data": {
      "image/png": "[encoded data removed]",
      "text/plain": [
       "<Figure size 640x480 with 1 Axes>"
      ]
     },
     "metadata": {},
     "output_type": "display_data"
    }
   ],
   "source": [
    "# Create a bar chart with the monthly sum data\n",
    "salesman_history.plot(kind='bar')\n",
    "\n",
    "# Set the chart title and axes labels\n",
    "plt.title('cars sold by each salesman')\n",
    "plt.xlabel('Salesman')\n",
    "plt.ylabel('Total number of cars')\n",
    "\n",
    "# Display the chart\n",
    "plt.show()"
   ]
  },
  {
   "cell_type": "code",
   "execution_count": 25,
   "id": "75194c4f",
   "metadata": {},
   "outputs": [
    {
     "name": "stdout",
     "output_type": "stream",
     "text": [
      "The salesman who sold the most cars is 3\n"
     ]
    }
   ],
   "source": [
    "topsalesman = salesman_history.idxmax()\n",
    "print(f'The salesman who sold the most cars is {topsalesman}') "
   ]
  },
  {
   "cell_type": "code",
   "execution_count": 28,
   "id": "5180b44d",
   "metadata": {},
   "outputs": [
    {
     "name": "stdout",
     "output_type": "stream",
     "text": [
      "       dealership       car\n",
      "0        Big Bobs  Corvette\n",
      "1     Uptown Cars  Corvette\n",
      "2     Uptown Cars  Corvette\n",
      "3     Uptown Cars  Corvette\n",
      "4     Uptown Cars  Corvette\n",
      "...           ...       ...\n",
      "1956  Uptown Cars  Corvette\n",
      "1957     Car Town  Corvette\n",
      "1958  Uptown Cars  Corvette\n",
      "1959  Uptown Cars  Corvette\n",
      "1960     Big Bobs  Corvette\n",
      "\n",
      "[1961 rows x 2 columns]\n"
     ]
    }
   ],
   "source": [
    "# Select two columns by name\n",
    "selected_dealers = df[['dealership', 'car']]\n",
    "\n",
    "# Print the selected columns\n",
    "print(selected_dealers)"
   ]
  },
  {
   "cell_type": "code",
   "execution_count": 30,
   "id": "afcb9656",
   "metadata": {},
   "outputs": [
    {
     "data": {
      "text/html": [
       "<div>\n",
       "<style scoped>\n",
       "    .dataframe tbody tr th:only-of-type {\n",
       "        vertical-align: middle;\n",
       "    }\n",
       "\n",
       "    .dataframe tbody tr th {\n",
       "        vertical-align: top;\n",
       "    }\n",
       "\n",
       "    .dataframe thead th {\n",
       "        text-align: right;\n",
       "    }\n",
       "</style>\n",
       "<table border=\"1\" class=\"dataframe\">\n",
       "  <thead>\n",
       "    <tr style=\"text-align: right;\">\n",
       "      <th></th>\n",
       "      <th>dealership</th>\n",
       "      <th>car</th>\n",
       "      <th>counts</th>\n",
       "    </tr>\n",
       "  </thead>\n",
       "  <tbody>\n",
       "    <tr>\n",
       "      <th>0</th>\n",
       "      <td>Big Bobs</td>\n",
       "      <td>Camaro</td>\n",
       "      <td>108</td>\n",
       "    </tr>\n",
       "    <tr>\n",
       "      <th>1</th>\n",
       "      <td>Big Bobs</td>\n",
       "      <td>Corvette</td>\n",
       "      <td>40</td>\n",
       "    </tr>\n",
       "    <tr>\n",
       "      <th>2</th>\n",
       "      <td>Big Bobs</td>\n",
       "      <td>Mustang</td>\n",
       "      <td>129</td>\n",
       "    </tr>\n",
       "    <tr>\n",
       "      <th>3</th>\n",
       "      <td>Car Town</td>\n",
       "      <td>Camaro</td>\n",
       "      <td>250</td>\n",
       "    </tr>\n",
       "    <tr>\n",
       "      <th>4</th>\n",
       "      <td>Car Town</td>\n",
       "      <td>Corvette</td>\n",
       "      <td>111</td>\n",
       "    </tr>\n",
       "    <tr>\n",
       "      <th>5</th>\n",
       "      <td>Car Town</td>\n",
       "      <td>Mustang</td>\n",
       "      <td>311</td>\n",
       "    </tr>\n",
       "    <tr>\n",
       "      <th>6</th>\n",
       "      <td>Uptown Cars</td>\n",
       "      <td>Camaro</td>\n",
       "      <td>388</td>\n",
       "    </tr>\n",
       "    <tr>\n",
       "      <th>7</th>\n",
       "      <td>Uptown Cars</td>\n",
       "      <td>Corvette</td>\n",
       "      <td>183</td>\n",
       "    </tr>\n",
       "    <tr>\n",
       "      <th>8</th>\n",
       "      <td>Uptown Cars</td>\n",
       "      <td>Mustang</td>\n",
       "      <td>441</td>\n",
       "    </tr>\n",
       "  </tbody>\n",
       "</table>\n",
       "</div>"
      ],
      "text/plain": [
       "    dealership       car  counts\n",
       "0     Big Bobs    Camaro     108\n",
       "1     Big Bobs  Corvette      40\n",
       "2     Big Bobs   Mustang     129\n",
       "3     Car Town    Camaro     250\n",
       "4     Car Town  Corvette     111\n",
       "5     Car Town   Mustang     311\n",
       "6  Uptown Cars    Camaro     388\n",
       "7  Uptown Cars  Corvette     183\n",
       "8  Uptown Cars   Mustang     441"
      ]
     },
     "execution_count": 30,
     "metadata": {},
     "output_type": "execute_result"
    }
   ],
   "source": [
    "dealership_counts = df.groupby(['dealership', 'car']).size().reset_index(name='counts')\n",
    "dealership_counts"
   ]
  },
  {
   "cell_type": "code",
   "execution_count": 34,
   "id": "a6c87673",
   "metadata": {},
   "outputs": [
    {
     "data": {
      "text/plain": [
       "dealership\n",
       "Big Bobs        277\n",
       "Car Town        672\n",
       "Uptown Cars    1012\n",
       "Name: counts, dtype: int64"
      ]
     },
     "execution_count": 34,
     "metadata": {},
     "output_type": "execute_result"
    }
   ],
   "source": [
    "dealership_history = dealership_counts.groupby('dealership')['counts'].sum()\n",
    "dealership_history"
   ]
  },
  {
   "cell_type": "code",
   "execution_count": 35,
   "id": "07851dbb",
   "metadata": {},
   "outputs": [
    {
     "data": {
      "image/png": "[encoded data removed]",
      "text/plain": [
       "<Figure size 640x480 with 1 Axes>"
      ]
     },
     "metadata": {},
     "output_type": "display_data"
    }
   ],
   "source": [
    "# Create a bar chart with the monthly sum data\n",
    "dealership_history.plot(kind='bar')\n",
    "\n",
    "# Set the chart title and axes labels\n",
    "plt.title('cars sold by each dealership')\n",
    "plt.xlabel('Dealership')\n",
    "plt.ylabel('Total number of cars')\n",
    "\n",
    "# Display the chart\n",
    "plt.show()"
   ]
  },
  {
   "cell_type": "code",
   "execution_count": 37,
   "id": "d8e835cf",
   "metadata": {},
   "outputs": [
    {
     "name": "stdout",
     "output_type": "stream",
     "text": [
      "The dealership that sold most of the cars is Uptown Cars\n"
     ]
    }
   ],
   "source": [
    "TopDealership = dealership_history.idxmax()\n",
    "print(f'The dealership that sold most of the cars is {TopDealership}')"
   ]
  },
  {
   "cell_type": "code",
   "execution_count": 49,
   "id": "879d9a0e",
   "metadata": {},
   "outputs": [
    {
     "name": "stdout",
     "output_type": "stream",
     "text": [
      "           car  year   price\n",
      "0     Corvette  2011   46135\n",
      "1     Corvette  2011   40650\n",
      "2     Corvette  2011   36350\n",
      "3     Corvette  2011   29450\n",
      "4     Corvette  2011   34500\n",
      "...        ...   ...     ...\n",
      "1956  Corvette  2016   49700\n",
      "1957  Corvette  2016   66350\n",
      "1958  Corvette  2001  128000\n",
      "1959  Corvette  2002  130000\n",
      "1960  Corvette  2003  131500\n",
      "\n",
      "[334 rows x 3 columns]\n"
     ]
    }
   ],
   "source": [
    "\n",
    "corvette_prices = df.loc[df['car'] == 'Corvette',['car','year','price']]\n"
   ]
  },
  {
   "cell_type": "code",
   "execution_count": 64,
   "id": "1d82cb36",
   "metadata": {},
   "outputs": [
    {
     "name": "stdout",
     "output_type": "stream",
     "text": [
      "    year    price\n",
      "0   1995    19130\n",
      "1   1996    12634\n",
      "2   1997    14317\n",
      "3   2000    14428\n",
      "4   2001   325880\n",
      "5   2002   281890\n",
      "6   2003   268400\n",
      "7   2006   100600\n",
      "8   2007   102200\n",
      "9   2008   102800\n",
      "10  2010    88900\n",
      "11  2011   275985\n",
      "12  2012   151500\n",
      "13  2013   397500\n",
      "14  2014   937300\n",
      "15  2015  6712900\n",
      "16  2016  5757705\n",
      "17  2017  4992550\n"
     ]
    },
    {
     "data": {
      "text/html": [
       "<div>\n",
       "<style scoped>\n",
       "    .dataframe tbody tr th:only-of-type {\n",
       "        vertical-align: middle;\n",
       "    }\n",
       "\n",
       "    .dataframe tbody tr th {\n",
       "        vertical-align: top;\n",
       "    }\n",
       "\n",
       "    .dataframe thead th {\n",
       "        text-align: right;\n",
       "    }\n",
       "</style>\n",
       "<table border=\"1\" class=\"dataframe\">\n",
       "  <thead>\n",
       "    <tr style=\"text-align: right;\">\n",
       "      <th></th>\n",
       "      <th>year</th>\n",
       "      <th>price</th>\n",
       "    </tr>\n",
       "  </thead>\n",
       "  <tbody>\n",
       "    <tr>\n",
       "      <th>4</th>\n",
       "      <td>2001</td>\n",
       "      <td>325880</td>\n",
       "    </tr>\n",
       "    <tr>\n",
       "      <th>5</th>\n",
       "      <td>2002</td>\n",
       "      <td>281890</td>\n",
       "    </tr>\n",
       "    <tr>\n",
       "      <th>6</th>\n",
       "      <td>2003</td>\n",
       "      <td>268400</td>\n",
       "    </tr>\n",
       "    <tr>\n",
       "      <th>7</th>\n",
       "      <td>2006</td>\n",
       "      <td>100600</td>\n",
       "    </tr>\n",
       "    <tr>\n",
       "      <th>8</th>\n",
       "      <td>2007</td>\n",
       "      <td>102200</td>\n",
       "    </tr>\n",
       "    <tr>\n",
       "      <th>9</th>\n",
       "      <td>2008</td>\n",
       "      <td>102800</td>\n",
       "    </tr>\n",
       "    <tr>\n",
       "      <th>11</th>\n",
       "      <td>2011</td>\n",
       "      <td>275985</td>\n",
       "    </tr>\n",
       "    <tr>\n",
       "      <th>12</th>\n",
       "      <td>2012</td>\n",
       "      <td>151500</td>\n",
       "    </tr>\n",
       "    <tr>\n",
       "      <th>13</th>\n",
       "      <td>2013</td>\n",
       "      <td>397500</td>\n",
       "    </tr>\n",
       "    <tr>\n",
       "      <th>14</th>\n",
       "      <td>2014</td>\n",
       "      <td>937300</td>\n",
       "    </tr>\n",
       "    <tr>\n",
       "      <th>15</th>\n",
       "      <td>2015</td>\n",
       "      <td>6712900</td>\n",
       "    </tr>\n",
       "    <tr>\n",
       "      <th>16</th>\n",
       "      <td>2016</td>\n",
       "      <td>5757705</td>\n",
       "    </tr>\n",
       "    <tr>\n",
       "      <th>17</th>\n",
       "      <td>2017</td>\n",
       "      <td>4992550</td>\n",
       "    </tr>\n",
       "  </tbody>\n",
       "</table>\n",
       "</div>"
      ],
      "text/plain": [
       "    year    price\n",
       "4   2001   325880\n",
       "5   2002   281890\n",
       "6   2003   268400\n",
       "7   2006   100600\n",
       "8   2007   102200\n",
       "9   2008   102800\n",
       "11  2011   275985\n",
       "12  2012   151500\n",
       "13  2013   397500\n",
       "14  2014   937300\n",
       "15  2015  6712900\n",
       "16  2016  5757705\n",
       "17  2017  4992550"
      ]
     },
     "execution_count": 64,
     "metadata": {},
     "output_type": "execute_result"
    }
   ],
   "source": [
    "corvette_year=corvette_prices.groupby('year')['price'].sum()\n",
    "df_corvette = corvette_year.reset_index()\n",
    "print(df_corvette)\n",
    "average_price_morethan100k= df_corvette[df_corvette['price'] > 100000]\n",
    "average_price_morethan100k"
   ]
  },
  {
   "cell_type": "code",
   "execution_count": 57,
   "id": "2d27287a",
   "metadata": {},
   "outputs": [
    {
     "data": {
      "image/png": "[encoded data removed]",
      "text/plain": [
       "<Figure size 640x480 with 1 Axes>"
      ]
     },
     "metadata": {},
     "output_type": "display_data"
    }
   ],
   "source": [
    "\n",
    "\n",
    "import matplotlib.ticker as mtick\n",
    "# Create a line plot using the filtered data\n",
    "plt.plot(df_corvette['year'], df_corvette['price'])\n",
    "\n",
    "# Set the plot title and axis labels\n",
    "plt.title('Corvette Price Over Time')\n",
    "plt.xlabel('Year')\n",
    "plt.ylabel('Price')\n",
    "# Set the y-axis tick formatter to display actual numbers\n",
    "plt.gca().yaxis.set_major_formatter(mtick.FormatStrFormatter('%.2f'))\n",
    "# Show the plot\n",
    "plt.show()"
   ]
  },
  {
   "cell_type": "code",
   "execution_count": 3,
   "id": "a8496732",
   "metadata": {},
   "outputs": [
    {
     "name": "stdout",
     "output_type": "stream",
     "text": [
      "      engine_hp       car\n",
      "0         335.0  Corvette\n",
      "1         300.0  Corvette\n",
      "2         300.0  Corvette\n",
      "3         230.0  Corvette\n",
      "4         230.0  Corvette\n",
      "...         ...       ...\n",
      "1956      240.0  Corvette\n",
      "1957      335.0  Corvette\n",
      "1958      394.0  Corvette\n",
      "1959      394.0  Corvette\n",
      "1960      394.0  Corvette\n",
      "\n",
      "[1961 rows x 2 columns]\n"
     ]
    }
   ],
   "source": [
    "# Select two columns by name\n",
    "df_hp_car = df[['engine_hp', 'car']]\n",
    "\n",
    "# Print the selected columns\n",
    "print(df_hp_car)\n"
   ]
  },
  {
   "cell_type": "code",
   "execution_count": 4,
   "id": "147df0ae",
   "metadata": {},
   "outputs": [
    {
     "data": {
      "image/png": "[encoded data removed]",
      "text/plain": [
       "<Figure size 640x480 with 1 Axes>"
      ]
     },
     "metadata": {},
     "output_type": "display_data"
    }
   ],
   "source": [
    "import seaborn as sns\n",
    "sns.boxplot(x='car', y='engine_hp', data=df_hp_car)\n",
    "\n",
    "# Show the plot\n",
    "plt.show()"
   ]
  },
  {
   "cell_type": "code",
   "execution_count": null,
   "id": "3ed151bd",
   "metadata": {},
   "outputs": [],
   "source": []
  }
 ],
 "metadata": {
  "kernelspec": {
   "display_name": "Python 3.9 (tensorflow)",
   "language": "python",
   "name": "tensorflow"
  },
  "language_info": {
   "codemirror_mode": {
    "name": "ipython",
    "version": 3
   },
   "file_extension": ".py",
   "mimetype": "text/x-python",
   "name": "python",
   "nbconvert_exporter": "python",
   "pygments_lexer": "ipython3",
   "version": "3.9.13"
  }
 },
 "nbformat": 4,
 "nbformat_minor": 5
}
